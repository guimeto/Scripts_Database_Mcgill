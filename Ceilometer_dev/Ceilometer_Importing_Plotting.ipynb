{
 "cells": [
  {
   "cell_type": "code",
   "execution_count": 25,
   "metadata": {},
   "outputs": [],
   "source": [
    "import numpy as np\n",
    "import pandas as pd\n",
    "import matplotlib.pyplot as plt\n",
    "from datetime import datetime, timedelta\n",
    "import matplotlib\n",
    "import matplotlib.colors as mcolors"
   ]
  },
  {
   "cell_type": "markdown",
   "metadata": {},
   "source": [
    "File reading function"
   ]
  },
  {
   "cell_type": "code",
   "execution_count": 62,
   "metadata": {},
   "outputs": [
    {
     "name": "stdout",
     "output_type": "stream",
     "text": [
      "Gault_Data/Ceilo/2019-10-16.txt\n",
      "Gault_Data/Ceilo/2019-10-17.txt\n",
      "Gault_Data/Ceilo/2019-10-18.txt\n"
     ]
    },
    {
     "name": "stderr",
     "output_type": "stream",
     "text": [
      "/Users/lacm2126/anaconda3/lib/python3.5/site-packages/ipykernel/__main__.py:60: RuntimeWarning: divide by zero encountered in log10\n",
      "/Users/lacm2126/anaconda3/lib/python3.5/site-packages/ipykernel/__main__.py:60: RuntimeWarning: invalid value encountered in log10\n"
     ]
    }
   ],
   "source": [
    "\n",
    "def ceilo_import(fnames):\n",
    "\n",
    "    time_list = []\n",
    "    raw_spectrum = []\n",
    "    for ii in np.arange(len(fnames)):\n",
    "        allData = open(fnames[ii], 'r')\n",
    "        print(fnames[ii])\n",
    "        cnt = 0\n",
    "        cnt_to_4 = -1000\n",
    "        for line in allData:\n",
    "            if line.find('CS0001004')>0:\n",
    "                cnt_to_4 = 0\n",
    "\n",
    "            if cnt_to_4 == 4:\n",
    "                split_line = line.split(',')\n",
    "\n",
    "                time_list.append(datetime.strptime(split_line[0][1:-1], '%Y-%m-%d %I:%M:%S %p') )\n",
    "                if (time_list[-1].hour == 12) & (split_line[0][-3:-1]=='AM'):\n",
    "                    time_list[-1] = datetime(year = time_list[-1].year, month = time_list[-1].month\\\n",
    "                                             , day = time_list[-1].day, hour = 0, minute= time_list[-1].minute,\\\n",
    "                                             second = time_list[-1].second)\n",
    "\n",
    "                if time_list[-1] < datetime(2019, 10, 16, 19, 41, 18):\n",
    "                    time_list[-1] = time_list[-1] + timedelta(hours=4)\n",
    "                \n",
    "                line_decimal = []\n",
    "                for i in range(2048):\n",
    "                    back_scat = int(split_line[1][5*i:5*i+5],16)\n",
    "                    if back_scat>524287:\n",
    "                        back_scat += -1048576\n",
    "                    line_decimal.append(back_scat)\n",
    "\n",
    "                raw_spectrum.append(line_decimal)\n",
    "            elif cnt_to_4 == 1:\n",
    "                line1 = line\n",
    "            elif cnt_to_4 == 2:\n",
    "                line2 = line\n",
    "            elif cnt_to_4 == 3:\n",
    "                line3 = line\n",
    "            elif cnt_to_4 == 5:\n",
    "                line5 = line\n",
    "            elif cnt_to_4 == 6:\n",
    "                line6 = line\n",
    "\n",
    "            cnt_to_4 += 1\n",
    "            cnt += 1\n",
    "        allData.close()\n",
    "\n",
    "        # raw_spectrum_df = pd.DataFrame()\n",
    "        \n",
    "    return time_list, raw_spectrum\n",
    "    \n"
   ]
  },
  {
   "cell_type": "markdown",
   "metadata": {},
   "source": [
    "Reading and resampling"
   ]
  },
  {
   "cell_type": "code",
   "execution_count": null,
   "metadata": {},
   "outputs": [],
   "source": [
    "fname0 = 'Gault_Data/Ceilo/2019-10-16.txt'\n",
    "fname1 = 'Gault_Data/Ceilo/2019-10-17.txt'\n",
    "fname2 = 'Gault_Data/Ceilo/2019-10-18.txt'\n",
    "fnames = [fname0,fname1,fname2]\n",
    "\n",
    "time_list, raw_spectrum = ceilo_import(fnames)\n",
    "\n",
    "raw_spectrum = np.array(raw_spectrum) * 10**-8\n",
    "raw_spectrum_log = np.log10(raw_spectrum)\n",
    "\n",
    "df = pd.DataFrame(raw_spectrum_log, index=time_list)\n",
    "resam_df = df.resample('1min').mean()\n",
    "resam_df_5min = df.resample('5min').mean()"
   ]
  },
  {
   "cell_type": "markdown",
   "metadata": {},
   "source": [
    "Plotting"
   ]
  },
  {
   "cell_type": "code",
   "execution_count": null,
   "metadata": {},
   "outputs": [],
   "source": [
    "colors = plt.cm.ocean(np.linspace(1,0,256))\n",
    "# generating a smoothly-varying LinearSegmentedColormap\n",
    "cmap = mcolors.LinearSegmentedColormap.from_list('colormap', colors)\n",
    "\n",
    "g_df = resam_df_5min\n",
    "st = np.arange(len(g_df))[g_df.index>datetime(year=2019,month=10,day=16,hour=21,minute=0)][0]\n",
    "en = np.arange(len(g_df))[g_df.index>datetime(year=2019,month=10,day=18,hour=5,minute=0)][0]\n",
    "\n",
    "fig, ax = plt.subplots(1, figsize=(10,2))\n",
    "cst = ax.contourf(g_df.index[st:en], np.arange(2048)*5+100, g_df[st:en].T,100,cmap=cmap)\n",
    "\n",
    "ax.set_xlabel('Time')\n",
    "ax.set_ylabel('Height [m]')\n",
    "# ax.set_xlim([datetime(year=2019,month=10,day=16,hour=3), datetime(year=2019,month=10,day=16,hour=9)])\n",
    "ax.xaxis.set_major_formatter(matplotlib.dates.DateFormatter('%H:%M'))\n",
    "\n",
    "ax.set_ylim([0,6000])\n",
    "\n",
    "\n",
    "cbZe=fig.colorbar(cst, ax=ax)\n",
    "cbZe.set_label(r'[sr$^-1$ m$^-1$]')\n",
    "cbZe.set_ticks([-7,-6,-5,-4])\n",
    "cbZe.set_ticklabels([r'$10^{-7}$',r'$10^{-6}$',r'$10^{-5}$',r'$10^{-4}$'])\n",
    "plt.tight_layout()\n",
    "\n",
    "plt.savefig('20191017_ceilo.png', format='png',bbox_to_anchor='tight' )\n"
   ]
  },
  {
   "cell_type": "markdown",
   "metadata": {},
   "source": []
  },
  {
   "cell_type": "code",
   "execution_count": 67,
   "metadata": {},
   "outputs": [
    {
     "data": {
      "image/png": "[encoded data removed]",
      "text/plain": [
       "<matplotlib.figure.Figure at 0x11fd2a1d0>"
      ]
     },
     "metadata": {},
     "output_type": "display_data"
    }
   ],
   "source": []
  },
  {
   "cell_type": "code",
   "execution_count": null,
   "metadata": {},
   "outputs": [],
   "source": []
  },
  {
   "cell_type": "code",
   "execution_count": null,
   "metadata": {},
   "outputs": [],
   "source": [
    "\n"
   ]
  },
  {
   "cell_type": "code",
   "execution_count": null,
   "metadata": {},
   "outputs": [],
   "source": []
  },
  {
   "cell_type": "code",
   "execution_count": null,
   "metadata": {},
   "outputs": [],
   "source": []
  },
  {
   "cell_type": "code",
   "execution_count": null,
   "metadata": {},
   "outputs": [],
   "source": []
  },
  {
   "cell_type": "code",
   "execution_count": null,
   "metadata": {},
   "outputs": [],
   "source": []
  },
  {
   "cell_type": "code",
   "execution_count": null,
   "metadata": {},
   "outputs": [],
   "source": [
    "\n"
   ]
  },
  {
   "cell_type": "code",
   "execution_count": null,
   "metadata": {},
   "outputs": [],
   "source": [
    "\n"
   ]
  },
  {
   "cell_type": "code",
   "execution_count": null,
   "metadata": {},
   "outputs": [],
   "source": []
  },
  {
   "cell_type": "code",
   "execution_count": 31,
   "metadata": {},
   "outputs": [],
   "source": []
  },
  {
   "cell_type": "code",
   "execution_count": 34,
   "metadata": {},
   "outputs": [],
   "source": []
  },
  {
   "cell_type": "code",
   "execution_count": 37,
   "metadata": {},
   "outputs": [],
   "source": []
  },
  {
   "cell_type": "code",
   "execution_count": null,
   "metadata": {},
   "outputs": [],
   "source": []
  }
 ],
 "metadata": {
  "kernelspec": {
   "display_name": "Python [default]",
   "language": "python",
   "name": "python3"
  },
  "language_info": {
   "codemirror_mode": {
    "name": "ipython",
    "version": 3
   },
   "file_extension": ".py",
   "mimetype": "text/x-python",
   "name": "python",
   "nbconvert_exporter": "python",
   "pygments_lexer": "ipython3",
   "version": "3.5.4"
  }
 },
 "nbformat": 4,
 "nbformat_minor": 2
}
